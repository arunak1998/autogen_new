{
 "cells": [
  {
   "cell_type": "code",
   "execution_count": 1,
   "id": "c27935bf",
   "metadata": {},
   "outputs": [
    {
     "name": "stdout",
     "output_type": "stream",
     "text": [
      "Hello everyone func1\n",
      "Hello everyone func2\n",
      "done\n"
     ]
    }
   ],
   "source": [
    "def func1():\n",
    "    print(\"Hello everyone func1\")\n",
    "\n",
    "def func2():\n",
    "    print(\"Hello everyone func2\")\n",
    "\n",
    "func1()\n",
    "func2()\n",
    "\n",
    "print(\"done\")"
   ]
  },
  {
   "cell_type": "code",
   "execution_count": null,
   "id": "5dfd389c",
   "metadata": {},
   "outputs": [
    {
     "name": "stdout",
     "output_type": "stream",
     "text": [
      "☕ Coffee preparation started...\n",
      "✅ Coffee preparation completed!\n",
      "\n",
      "🍵 Tea brewing started...\n",
      "✅ Tea brewing completed!\n",
      "\n",
      "🕒 Total time taken: 5.0 seconds\n"
     ]
    }
   ],
   "source": [
    "import time\n",
    "def brew_coffee():\n",
    "    print(\"☕ Coffee preparation started...\")\n",
    "    time.sleep(2)  # Simulate brewing time\n",
    "    print(\"✅ Coffee preparation completed!\\n\")\n",
    "\n",
    "def brew_tea():\n",
    "    print(\"🍵 Tea brewing started...\")\n",
    "    time.sleep(3)  # Simulate brewing time\n",
    "    print(\"✅ Tea brewing completed!\\n\")\n",
    "\n",
    "def main():\n",
    "    start = time.time()\n",
    "\n",
    "    brew_coffee()\n",
    "    brew_tea()\n",
    "\n",
    "    end = time.time()\n",
    "    print(f\"🕒 Total time taken: {round(end - start, 2)} seconds\")\n",
    "\n",
    "if __name__ == \"__main__\":\n",
    "    main()"
   ]
  },
  {
   "cell_type": "code",
   "execution_count": null,
   "id": "e8bd7214",
   "metadata": {},
   "outputs": [
    {
     "name": "stdout",
     "output_type": "stream",
     "text": [
      "☕ Coffee preparation started...\n",
      "🍵 Tea brewing started...\n",
      "✅ Coffee preparation completed!\n",
      "\n",
      "✅ Tea brewing completed!\n",
      "\n",
      "🕒 Total time taken: 3.0 seconds\n"
     ]
    }
   ],
   "source": [
    "import asyncio\n",
    "async def brew_coffee():\n",
    "    print(\"☕ Coffee preparation started...\")\n",
    "    await asyncio.sleep(2)  # Simulate brewing time\n",
    "    print(\"✅ Coffee preparation completed!\\n\")\n",
    "\n",
    "async def brew_tea():\n",
    "    print(\"🍵 Tea brewing started...\")\n",
    "    await asyncio.sleep(3)  # Simulate brewing time\n",
    "    print(\"✅ Tea brewing completed!\\n\")\n",
    "\n",
    "async def main():\n",
    "    start = time.time()\n",
    "\n",
    "    coffee=brew_coffee()\n",
    "    tea=brew_tea()\n",
    "    await asyncio.gather(coffee,tea)\n",
    "\n",
    "    end = time.time()\n",
    "    print(f\"🕒 Total time taken: {round(end - start, 2)} seconds\")\n",
    "\n",
    "\n",
    "await main()\n"
   ]
  },
  {
   "cell_type": "code",
   "execution_count": null,
   "id": "256ee664",
   "metadata": {},
   "outputs": [],
   "source": []
  }
 ],
 "metadata": {
  "kernelspec": {
   "display_name": "autogen",
   "language": "python",
   "name": "python3"
  },
  "language_info": {
   "codemirror_mode": {
    "name": "ipython",
    "version": 3
   },
   "file_extension": ".py",
   "mimetype": "text/x-python",
   "name": "python",
   "nbconvert_exporter": "python",
   "pygments_lexer": "ipython3",
   "version": "3.12.11"
  }
 },
 "nbformat": 4,
 "nbformat_minor": 5
}
