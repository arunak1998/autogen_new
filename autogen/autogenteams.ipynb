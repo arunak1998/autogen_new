{
 "cells": [
  {
   "cell_type": "code",
   "execution_count": 43,
   "id": "8e58cf4a",
   "metadata": {},
   "outputs": [
    {
     "data": {
      "text/plain": [
       "True"
      ]
     },
     "execution_count": 43,
     "metadata": {},
     "output_type": "execute_result"
    }
   ],
   "source": [
    "from autogen_ext.models.openai import OpenAIChatCompletionClient\n",
    "from autogen_core.tools import FunctionTool\n",
    "from autogen_agentchat.agents import AssistantAgent\n",
    "from dotenv import load_dotenv\n",
    "import asyncio\n",
    "import os\n",
    "load_dotenv()"
   ]
  },
  {
   "cell_type": "code",
   "execution_count": 44,
   "id": "881ad08a",
   "metadata": {},
   "outputs": [],
   "source": [
    "api_key=os.getenv(\"OPENAI_API_KEY\")\n",
    "\n",
    "if not api_key:\n",
    "    raise ValueError(\"Please set the api key in evironemnt Varibale\")\n",
    "openai_model_client = OpenAIChatCompletionClient(\n",
    "    model=\"gpt-4o-2024-08-06\",\n",
    "    api_key=api_key,\n",
    ")"
   ]
  },
  {
   "cell_type": "code",
   "execution_count": 45,
   "id": "668bc80a",
   "metadata": {},
   "outputs": [],
   "source": [
    "code_reviewer = AssistantAgent(\n",
    "    name=\"CodeReviewer\",\n",
    "    model_client=openai_model_client,\n",
    "    system_message=(\n",
    "        \"You're a senior software engineer. Your job is to review code for bugs, readability, logic issues, and efficiency. \"\n",
    "        \"You give concise feedback, and you also suggest better patterns or simplifications when needed. \"\n",
    "        \"Be honest, but encouraging — this is a peer code review. if Completed Please Terminate\"\n",
    "    )\n",
    ")\n",
    "\n",
    "dsa_resolver = AssistantAgent(\n",
    "    name=\"DSAResolver\",\n",
    "    model_client=openai_model_client,\n",
    "    system_message=(\n",
    "        \"You're a DSA problem-solving expert. You explain algorithms step by step and write clean Python code for problems. \"\n",
    "        \"Always think out loud before coding. Help debug DSA code, analyze time/space complexity, and suggest edge cases. \"\n",
    "        \"If needed, break a problem into patterns like sliding window, backtracking, binary search, etc.\"\n",
    "    )\n",
    ")\n",
    "\n",
    "\n",
    "code_editor = AssistantAgent(\n",
    "    name=\"CodeEditor\",\n",
    "    model_client=openai_model_client,\n",
    "    system_message=(\n",
    "        \"You're an expert coding assistant. Your role is to write, refactor, and extend code with minimal explanation. \"\n",
    "        \"Always return only valid and complete code blocks. When modifying existing code, preserve formatting and structure. \"\n",
    "        \"Stick to clean, idiomatic code.\"\n",
    "    )\n",
    ")"
   ]
  },
  {
   "cell_type": "code",
   "execution_count": 46,
   "id": "2496ab86",
   "metadata": {},
   "outputs": [],
   "source": [
    "from autogen_agentchat.teams import RoundRobinGroupChat\n",
    "from autogen_agentchat.messages import TextMessage\n",
    "from autogen_agentchat.conditions import TextMentionTermination\n",
    "my_termination=TextMentionTermination(text='TERMINATION')\n",
    "team=RoundRobinGroupChat(participants=[dsa_resolver,code_reviewer,code_editor],max_turns=14,termination_condition=my_termination)"
   ]
  },
  {
   "cell_type": "code",
   "execution_count": 49,
   "id": "51d8818d",
   "metadata": {},
   "outputs": [],
   "source": [
    "async def main():\n",
    "    task = TextMessage(\n",
    "        content=\"write a simple 2 line code in python to add two numbers\",\n",
    "        source='user'\n",
    "    )\n",
    "    result=await team.run(task=task)\n",
    "    for message in result:\n",
    "        print(f\"Source: {message.source}\")\n",
    "        print(f\"Message: {message.content}\")\n",
    "        print(\"-\" * 40)\n"
   ]
  },
  {
   "cell_type": "code",
   "execution_count": 50,
   "id": "d0206ac8",
   "metadata": {},
   "outputs": [
    {
     "ename": "AttributeError",
     "evalue": "'tuple' object has no attribute 'source'",
     "output_type": "error",
     "traceback": [
      "\u001b[31m---------------------------------------------------------------------------\u001b[39m",
      "\u001b[31mAttributeError\u001b[39m                            Traceback (most recent call last)",
      "\u001b[36mCell\u001b[39m\u001b[36m \u001b[39m\u001b[32mIn[50]\u001b[39m\u001b[32m, line 1\u001b[39m\n\u001b[32m----> \u001b[39m\u001b[32m1\u001b[39m \u001b[38;5;28;01mawait\u001b[39;00m main()\n",
      "\u001b[36mCell\u001b[39m\u001b[36m \u001b[39m\u001b[32mIn[49]\u001b[39m\u001b[32m, line 8\u001b[39m, in \u001b[36mmain\u001b[39m\u001b[34m()\u001b[39m\n\u001b[32m      6\u001b[39m result=\u001b[38;5;28;01mawait\u001b[39;00m team.run(task=task)\n\u001b[32m      7\u001b[39m \u001b[38;5;28;01mfor\u001b[39;00m message \u001b[38;5;129;01min\u001b[39;00m result:\n\u001b[32m----> \u001b[39m\u001b[32m8\u001b[39m     \u001b[38;5;28mprint\u001b[39m(\u001b[33mf\u001b[39m\u001b[33m\"\u001b[39m\u001b[33mSource: \u001b[39m\u001b[38;5;132;01m{\u001b[39;00m\u001b[43mmessage\u001b[49m\u001b[43m.\u001b[49m\u001b[43msource\u001b[49m\u001b[38;5;132;01m}\u001b[39;00m\u001b[33m\"\u001b[39m)\n\u001b[32m      9\u001b[39m     \u001b[38;5;28mprint\u001b[39m(\u001b[33mf\u001b[39m\u001b[33m\"\u001b[39m\u001b[33mMessage: \u001b[39m\u001b[38;5;132;01m{\u001b[39;00mmessage.content\u001b[38;5;132;01m}\u001b[39;00m\u001b[33m\"\u001b[39m)\n\u001b[32m     10\u001b[39m     \u001b[38;5;28mprint\u001b[39m(\u001b[33m\"\u001b[39m\u001b[33m-\u001b[39m\u001b[33m\"\u001b[39m * \u001b[32m40\u001b[39m)\n",
      "\u001b[31mAttributeError\u001b[39m: 'tuple' object has no attribute 'source'"
     ]
    }
   ],
   "source": [
    "await main()"
   ]
  },
  {
   "cell_type": "code",
   "execution_count": null,
   "id": "43705049",
   "metadata": {},
   "outputs": [],
   "source": [
    "messages=[TextMessage(id='ff89b290-4002-4f30-8119-170dfd221c3a', source='user', models_usage=None, metadata={}, created_at=datetime.datetime(2025, 7, 12, 4, 52, 32, 498704, tzinfo=datetime.timezone.utc), content='write a simple 2 line code in python to add two numbers', type='TextMessage'),\n",
    "          TextMessage(id='e3287923-02ba-46db-a3ca-8fec9eb095d6', source='DSAResolver', models_usage=RequestUsage(prompt_tokens=91, completion_tokens=132), metadata={}, created_at=datetime.datetime(2025, 7, 12, 4, 52, 35, 544003, tzinfo=datetime.timezone.utc), content='To add two numbers in Python using a simple two-line code, you can do the following:\\n\\n```python\\na, b = 5, 3  # You can change these values to any numbers you want to add\\nresult = a + b\\nprint(result)  # This will output: 8 for the values 5 and 3\\n```\\n\\nIn this snippet:\\n- We first initialize two variables `a` and `b` with the numbers you want to add.\\n- We calculate the sum by using the `+` operator and store it in the variable `result`.\\n- Finally, we print the result to see the output.', type='TextMessage'),\n",
    "          TextMessage(id='a0a34b16-f939-4e1e-8135-fec6ce394371', source='CodeReviewer', models_usage=RequestUsage(prompt_tokens=218, completion_tokens=114), metadata={}, created_at=datetime.datetime(2025, 7, 12, 4, 52, 37, 932552, tzinfo=datetime.timezone.utc), content=\"Your request can indeed be accomplished in two concise lines. Here's a simplified version:\\n\\n```python\\na, b = 5, 3  # Example values; update them as desired\\nprint(a + b)  # Outputs the sum of `a` and `b`\\n```\\n\\nThis accomplishes the task by defining the numbers on the first line and immediately printing their sum on the second line. This approach keeps the code compact and direct for quick calculations. If you intend to perform further operations with the result, storing it as a variable would be more beneficial.\", type='TextMessage'),\n",
    "          TextMessage(id='251ab00d-eb0b-424f-a950-594f33d01906', source='CodeEditor', models_usage=RequestUsage(prompt_tokens=335, completion_tokens=81), metadata={}, created_at=datetime.datetime(2025, 7, 12, 4, 52, 39, 492585, tzinfo=datetime.timezone.utc), content=\"Here's a two-line Python code block that adds two numbers and prints the result:\\n\\n```python\\na, b = 5, 3  # Example values; you can change these\\nprint(a + b)  # Outputs: 8\\n```\\n\\nThis code initializes two variables with example values and prints their sum directly. Adjust `a` and `b` as needed to add different numbers.\", type='TextMessage'),\n",
    "          TextMessage(id='ef48c740-8628-4d9f-aa4b-0587fe725c4e', source='DSAResolver', models_usage=RequestUsage(prompt_tokens=436, completion_tokens=129), metadata={}, created_at=datetime.datetime(2025, 7, 12, 4, 52, 41, 492774, tzinfo=datetime.timezone.utc), content='You\\'ve got it right! This two-line code efficiently initializes and sums two numbers, then prints the result. This is perfect for quick calculations. If you\\'re interested in taking input from users, here\\'s how you could modify it:\\n\\n```python\\na, b = map(int, input(\"Enter two numbers separated by space: \").split())\\nprint(a + b)\\n```\\n\\nThis version:\\n1. Uses `map` and `split` to take input for two numbers from the user in a single line.\\n2. Converts the inputs into integers.\\n3. Outputs their sum.\\n\\nThis variant is useful if you want dynamic input rather than hardcoded values.', type='TextMessage')] stop_reason='Maximum number of turns 4 reached.'"
   ]
  }
 ],
 "metadata": {
  "kernelspec": {
   "display_name": "autogen",
   "language": "python",
   "name": "python3"
  },
  "language_info": {
   "codemirror_mode": {
    "name": "ipython",
    "version": 3
   },
   "file_extension": ".py",
   "mimetype": "text/x-python",
   "name": "python",
   "nbconvert_exporter": "python",
   "pygments_lexer": "ipython3",
   "version": "3.12.11"
  }
 },
 "nbformat": 4,
 "nbformat_minor": 5
}
